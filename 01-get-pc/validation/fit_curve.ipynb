{
 "cells": [
  {
   "cell_type": "code",
   "execution_count": 2,
   "metadata": {},
   "outputs": [],
   "source": [
    "import numpy as np\n",
    "from scipy.optimize import curve_fit\n",
    "import matplotlib.pyplot as plt"
   ]
  },
  {
   "cell_type": "code",
   "execution_count": 3,
   "metadata": {},
   "outputs": [],
   "source": [
    "# Define the function you want to fit (e.g., exponential, polynomial, etc.)\n",
    "# def custom_function(x, param1, param2, ...):\n",
    "    # Define your custom function here\n",
    "    # For example: return param1 * np.exp(param2 * x)\n",
    "\n",
    "# Exponential function: y = a * exp(b * x)\n",
    "def exponential_function(x, a, b):\n",
    "    return a * np.exp(b * x)"
   ]
  },
  {
   "cell_type": "code",
   "execution_count": 55,
   "metadata": {},
   "outputs": [],
   "source": [
    "# Provide your data points\n",
    "x_data = np.array([0.1035,  0.644720765, 0.662509883, 0.857761027])\n",
    "y_data = np.array([1.37, 1.44, 6.09, 11.56 ])"
   ]
  },
  {
   "cell_type": "code",
   "execution_count": 56,
   "metadata": {},
   "outputs": [],
   "source": [
    "# Take the logarithm of y-values\n",
    "log_y_data = np.log(y_data)\n",
    "\n",
    "# Fit a linear equation to the log-transformed data\n",
    "linear_params = np.polyfit(x_data, log_y_data, 1)\n",
    "initial_a = np.exp(linear_params[1])\n",
    "initial_b = linear_params[0]"
   ]
  },
  {
   "cell_type": "code",
   "execution_count": 57,
   "metadata": {},
   "outputs": [],
   "source": [
    "# Set lower bounds for parameters (a and b must be positive)\n",
    "lower_bounds = [-np.inf, -np.inf]\n",
    "upper_bounds = [np.inf, np.inf]\n",
    "\n",
    "# Perform the curve fitting\n",
    "# params, covariance = curve_fit(custom_function, x_data, y_data)\n",
    "# params, covariance = curve_fit(exponential_function, x_data, y_data, bounds=(lower_bounds, upper_bounds))\n",
    "params, covariance = curve_fit(exponential_function, x_data, y_data, bounds=(lower_bounds, upper_bounds), p0=[initial_a, initial_b])\n",
    "# params, covariance = curve_fit(exponential_function, x_data, y_data, bounds=(lower_bounds, upper_bounds), p0=[initial_a, initial_b], method='lm')\n",
    "\n",
    "\n",
    "# Extract the fitted parameters\n",
    "# param1_fit = params[0]\n",
    "# param2_fit = params[1]\n",
    "# ...\n",
    "a_fit = params[0]\n",
    "b_fit = params[1]"
   ]
  },
  {
   "cell_type": "code",
   "execution_count": 58,
   "metadata": {},
   "outputs": [
    {
     "name": "stdout",
     "output_type": "stream",
     "text": [
      "5.34709859869689\n"
     ]
    }
   ],
   "source": [
    "\n",
    "# Create a fitted curve using the fitted parameters\n",
    "# x_fit = np.linspace(min(x_data), max(x_data), 100)\n",
    "# y_fit = custom_function(x_fit, param1_fit, param2_fit, ...)\n",
    "x_fit = np.linspace(min(x_data), max(x_data), 100)\n",
    "y_fit = exponential_function(x_fit, a_fit, b_fit)\n",
    "\n",
    "print(b_fit)"
   ]
  },
  {
   "cell_type": "code",
   "execution_count": 59,
   "metadata": {},
   "outputs": [
    {
     "data": {
      "image/png": "[encoded data removed]",
      "text/plain": [
       "<Figure size 432x288 with 1 Axes>"
      ]
     },
     "metadata": {
      "needs_background": "light"
     },
     "output_type": "display_data"
    }
   ],
   "source": [
    "# Plot the original data and the fitted curve\n",
    "plt.scatter(x_data, y_data, label='Original Data')\n",
    "plt.plot(x_fit, y_fit, label='Fitted Curve', color='red')\n",
    "plt.legend()\n",
    "plt.xlabel('Closeness to Viewing Edge')\n",
    "plt.ylabel('Percent Error (%)')\n",
    "plt.title('Percent Error of Length/Width Measurements vs Closeness to Viewing Edge')\n",
    "plt.show()"
   ]
  },
  {
   "cell_type": "code",
   "execution_count": 60,
   "metadata": {},
   "outputs": [
    {
     "name": "stdout",
     "output_type": "stream",
     "text": [
      "Equation of the best-fitting curve: y = 0.117845 * exp(5.347099 * x)\n",
      "5.34709859869689\n",
      "0.11784473437619888\n"
     ]
    }
   ],
   "source": [
    "# Print the equation of the best-fitting curve\n",
    "equation = f'y = {a_fit:.6f} * exp({b_fit:.6f} * x)'\n",
    "print(\"Equation of the best-fitting curve:\", equation)\n",
    "\n",
    "print(b_fit)\n",
    "print(a_fit)"
   ]
  }
 ],
 "metadata": {
  "kernelspec": {
   "display_name": "base",
   "language": "python",
   "name": "python3"
  },
  "language_info": {
   "codemirror_mode": {
    "name": "ipython",
    "version": 3
   },
   "file_extension": ".py",
   "mimetype": "text/x-python",
   "name": "python",
   "nbconvert_exporter": "python",
   "pygments_lexer": "ipython3",
   "version": "3.6.5"
  },
  "orig_nbformat": 4
 },
 "nbformat": 4,
 "nbformat_minor": 2
}
